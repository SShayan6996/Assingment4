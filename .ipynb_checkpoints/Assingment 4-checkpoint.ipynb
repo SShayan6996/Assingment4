{
 "cells": [
  {
   "cell_type": "markdown",
   "id": "1f329819",
   "metadata": {},
   "source": [
    "# Syed Shayan Ahmed \n",
    "Roll Number: JP14575"
   ]
  },
  {
   "cell_type": "code",
   "execution_count": 1,
   "id": "cf0e53a4",
   "metadata": {},
   "outputs": [
    {
     "name": "stdout",
     "output_type": "stream",
     "text": [
      "1 Addition\n",
      "2 Subraction\n",
      "3 Mulitplication\n",
      "4 Division\n",
      "Enter the operation you want to do 2\n",
      "Enter first number 5\n",
      "Enter second number 5\n",
      "5.0 - 5.0 = 0.0\n"
     ]
    }
   ],
   "source": [
    "#Make a calculator using Python with addition , subtraction , multiplication ,division and power.\n",
    "\n",
    "print(\"1 Addition\");\n",
    "print(\"2 Subraction\");\n",
    "print(\"3 Mulitplication\");\n",
    "print(\"4 Division\");\n",
    "operation = int(input(\"Enter the operation you want to do \"));\n",
    "\n",
    "num_1 = float(input(\"Enter first number \"));\n",
    "num_2 = float(input(\"Enter second number \"));\n",
    "\n",
    "if operation == 1:\n",
    "    print(num_1, \"+\", num_2, \"=\", (num_1 + num_2));\n",
    "elif operation == 2:\n",
    "     print(num_1, \"-\", num_2, \"=\", (num_1 - num_2));\n",
    "elif operation == 3:\n",
    "     print(num_1, \"*\", num_2, \"=\", (num_1 * num_2));\n",
    "elif operation == 4:\n",
    "    if num_2 == 0.0:\n",
    "        print(\"Division by zero gives error\");\n",
    "    else:\n",
    "         print(num_1, \"/\", num_2, \"=\", (num_1 / num_2));"
   ]
  },
  {
   "cell_type": "code",
   "execution_count": 2,
   "id": "63ffb9c7",
   "metadata": {},
   "outputs": [
    {
     "name": "stdout",
     "output_type": "stream",
     "text": [
      "4\n",
      "7\n",
      "8\n"
     ]
    }
   ],
   "source": [
    "# Write a program to check if there is any numeric value in list using for loop.\n",
    "arr = [\"syed\", \"Shayan\", 4, \"Ahmed\",\"JawanPakistan\",7,8,\"Data\"] ;\n",
    "for x in arr: \n",
    "    if type(x) == int: \n",
    "        print(x);"
   ]
  },
  {
   "cell_type": "code",
   "execution_count": 3,
   "id": "4bbcb01f",
   "metadata": {},
   "outputs": [
    {
     "name": "stdout",
     "output_type": "stream",
     "text": [
      "{0: 10, 1: 20}\n",
      "{0: 10, 1: 20, 2: 30, 4: 50}\n"
     ]
    }
   ],
   "source": [
    "#  Write a Python script to add a key to a dictionary.\n",
    "new = {0:10, 1:20}\n",
    "print(new)\n",
    "new.update({2:30})\n",
    "new.update({4:50})\n",
    "print(new)\n"
   ]
  },
  {
   "cell_type": "code",
   "execution_count": 5,
   "id": "e211a6c9",
   "metadata": {},
   "outputs": [
    {
     "name": "stdout",
     "output_type": "stream",
     "text": [
      "Total sum of numeric values\n",
      "70\n"
     ]
    }
   ],
   "source": [
    "# Write a Python program to sum all the numeric items in a dictionary.\n",
    "new = {\"Shayan\":10,\"Ahmed\":40,\"Syed\":20};\n",
    "print(\"Total sum of numeric values\");\n",
    "print(sum(new.values()));"
   ]
  },
  {
   "cell_type": "code",
   "execution_count": 6,
   "id": "4759a884",
   "metadata": {},
   "outputs": [
    {
     "name": "stdout",
     "output_type": "stream",
     "text": [
      "Duplicate elements in given list: \n",
      "2\n",
      "3\n",
      "4\n",
      "7\n",
      "8\n"
     ]
    }
   ],
   "source": [
    "# Write a program to identify duplicate values from list.\n",
    "arr = [1, 2, 3, 4, 2, 7, 8, 8, 3,5,4,7,33,56];     \n",
    "print(\"Duplicate elements in given list: \");    \n",
    "  \n",
    "for i in range(0, len(arr)):    \n",
    "    for j in range(i+1, len(arr)):    \n",
    "        if(arr[i] == arr[j]):    \n",
    "            print(arr[j]);   "
   ]
  },
  {
   "cell_type": "code",
   "execution_count": 7,
   "id": "0f6768b0",
   "metadata": {},
   "outputs": [
    {
     "name": "stdout",
     "output_type": "stream",
     "text": [
      "Key Exists\n"
     ]
    }
   ],
   "source": [
    "# Write a Python script to check if a given key already exists in a dictionary\n",
    "new_1 = {\"x\": 1, \"y\":2, \"z\":3}\n",
    "if \"y\" in new_1:\n",
    "    print(\"Key Exists\");\n",
    "else:\n",
    "    print(\"Key Does not exist\");"
   ]
  },
  {
   "cell_type": "code",
   "execution_count": null,
   "id": "285d2c38",
   "metadata": {},
   "outputs": [],
   "source": [
    "\n"
   ]
  },
  {
   "cell_type": "code",
   "execution_count": null,
   "id": "2277acfb",
   "metadata": {},
   "outputs": [],
   "source": []
  }
 ],
 "metadata": {
  "kernelspec": {
   "display_name": "Python 3",
   "language": "python",
   "name": "python3"
  },
  "language_info": {
   "codemirror_mode": {
    "name": "ipython",
    "version": 3
   },
   "file_extension": ".py",
   "mimetype": "text/x-python",
   "name": "python",
   "nbconvert_exporter": "python",
   "pygments_lexer": "ipython3",
   "version": "3.8.8"
  }
 },
 "nbformat": 4,
 "nbformat_minor": 5
}
